{
 "cells": [
  {
   "cell_type": "markdown",
   "metadata": {
    "id": "HLt7hE1LyYvF"
   },
   "source": [
    " **PROGRAMMING**\n",
    "\n",
    "---\n",
    "\n",
    "\n",
    " **PROBLEM STATEMENT**\n",
    "\n",
    " The program takes input a short abstract\n",
    "and outputs the following\n",
    "\n",
    "1) Prints each word in reverse.\n",
    "\n",
    "2) Prints Top 2 occurring words in\n",
    "sorted order. The words that have occurred most of the time.\n",
    "\n",
    "\n",
    "---\n",
    "\n",
    "**SAMPLE INPUT**\n",
    "\n",
    "\"This declaration represents a\n",
    "political commitment among declaration partners to advance a positive vision\n",
    "for the Internet in this era of a united europe\"\n",
    "\n",
    "**SAMPLE OUTPUT**\n",
    "\n",
    "\"Europe united a of era this in internet the for vision positive a advance to partners declaration among commitment political a represents declaration this\"\n"
   ]
  },
  {
   "cell_type": "code",
   "execution_count": 1,
   "metadata": {
    "colab": {
     "base_uri": "https://localhost:8080/"
    },
    "id": "KGp019jRer8_",
    "outputId": "856a3c83-fe2d-45b0-8b9c-4b59eb8cdc49"
   },
   "outputs": [
    {
     "name": "stdout",
     "output_type": "stream",
     "text": [
      "Mounted at /content/drive\n"
     ]
    }
   ],
   "source": [
    "from google.colab import drive\n",
    "drive.mount('/content/drive')"
   ]
  },
  {
   "cell_type": "code",
   "execution_count": 20,
   "metadata": {
    "colab": {
     "base_uri": "https://localhost:8080/"
    },
    "id": "6y9uVPXOgw1g",
    "outputId": "1c09bbdf-23b3-402b-fdc9-fcecda6fd34f"
   },
   "outputs": [
    {
     "name": "stderr",
     "output_type": "stream",
     "text": [
      "[nltk_data] Downloading package punkt to /root/nltk_data...\n",
      "[nltk_data]   Unzipping tokenizers/punkt.zip.\n"
     ]
    },
    {
     "data": {
      "text/plain": [
       "True"
      ]
     },
     "execution_count": 20,
     "metadata": {},
     "output_type": "execute_result"
    }
   ],
   "source": [
    "import nltk\n",
    "nltk.download('punkt')"
   ]
  },
  {
   "cell_type": "markdown",
   "metadata": {
    "id": "VF6WeMw2z2Jv"
   },
   "source": [
    "**QUESTION 1**"
   ]
  },
  {
   "cell_type": "code",
   "execution_count": 9,
   "metadata": {
    "id": "rt03AXE3k0u3"
   },
   "outputs": [],
   "source": [
    "text=\"This declaration represents a political commitment among declaration partners to advance a positive vision for the Internet in this era of a united europe\""
   ]
  },
  {
   "cell_type": "code",
   "execution_count": 10,
   "metadata": {},
   "outputs": [],
   "source": [
    "text=text.lower()"
   ]
  },
  {
   "cell_type": "code",
   "execution_count": 11,
   "metadata": {
    "colab": {
     "base_uri": "https://localhost:8080/"
    },
    "id": "Fol3AWmelNDI",
    "outputId": "be46cb96-dd2c-4271-ae24-8c6b543324fc"
   },
   "outputs": [
    {
     "name": "stdout",
     "output_type": "stream",
     "text": [
      "['this', 'declaration', 'represents', 'a', 'political', 'commitment', 'among', 'declaration', 'partners', 'to', 'advance', 'a', 'positive', 'vision', 'for', 'the', 'internet', 'in', 'this', 'era', 'of', 'a', 'united', 'europe']\n"
     ]
    }
   ],
   "source": [
    "from nltk.tokenize import sent_tokenize, word_tokenize\n",
    "t_text=word_tokenize(text)\n",
    "print(t_text)"
   ]
  },
  {
   "cell_type": "code",
   "execution_count": 12,
   "metadata": {
    "colab": {
     "base_uri": "https://localhost:8080/"
    },
    "id": "e67Wrv3AlQqF",
    "outputId": "5c372c02-90a4-4aed-8585-78fb1d894c58"
   },
   "outputs": [
    {
     "name": "stdout",
     "output_type": "stream",
     "text": [
      "['europe', 'united', 'a', 'of', 'era', 'this', 'in', 'internet', 'the', 'for', 'vision', 'positive', 'a', 'advance', 'to', 'partners', 'declaration', 'among', 'commitment', 'political', 'a', 'represents', 'declaration', 'this']\n"
     ]
    }
   ],
   "source": [
    "import re\n",
    "from nltk.tokenize.treebank import TreebankWordDetokenizer as Detok\n",
    "new_text=t_text[::-1]\n",
    "print(new_text)"
   ]
  },
  {
   "cell_type": "code",
   "execution_count": 13,
   "metadata": {
    "colab": {
     "base_uri": "https://localhost:8080/",
     "height": 53
    },
    "id": "8UJ2QE0UqExR",
    "outputId": "ce4f9cef-2ea8-4c30-9d0a-1d1bb98cab24"
   },
   "outputs": [
    {
     "data": {
      "text/plain": [
       "'europe united a of era this in internet the for vision positive a advance to partners declaration among commitment political a represents declaration this'"
      ]
     },
     "execution_count": 13,
     "metadata": {},
     "output_type": "execute_result"
    }
   ],
   "source": [
    "detokenizer = Detok()\n",
    "new_text1 = detokenizer.detokenize(new_text)\n",
    "new_text1"
   ]
  },
  {
   "cell_type": "code",
   "execution_count": 14,
   "metadata": {
    "colab": {
     "base_uri": "https://localhost:8080/"
    },
    "id": "HIhG72xGlh0O",
    "outputId": "9416eef7-af91-4f69-80a4-c884a01e969b"
   },
   "outputs": [
    {
     "data": {
      "text/plain": [
       "['Europe united a of era this in internet the for vision positive a advance to partners declaration among commitment political a represents declaration this']"
      ]
     },
     "execution_count": 14,
     "metadata": {},
     "output_type": "execute_result"
    }
   ],
   "source": [
    "import textwrap\n",
    "import nltk.data \n",
    "sent_tokenizer = nltk.data.load('tokenizers/punkt/english.pickle')\n",
    "sentences = sent_tokenizer.tokenize(new_text1)\n",
    "sentences = [sent.capitalize() for sent in sentences]\n",
    "sentences"
   ]
  },
  {
   "cell_type": "markdown",
   "metadata": {
    "id": "Qvw_xknTz-S9"
   },
   "source": [
    "**QUESTION 2**"
   ]
  },
  {
   "cell_type": "code",
   "execution_count": 15,
   "metadata": {
    "colab": {
     "base_uri": "https://localhost:8080/"
    },
    "id": "qgtDDlV1p8nw",
    "outputId": "9e69ed47-e5eb-4759-afae-9b37a941f650"
   },
   "outputs": [
    {
     "data": {
      "text/plain": [
       "FreqDist({'a': 3, 'this': 2, 'declaration': 2, 'represents': 1, 'political': 1, 'commitment': 1, 'among': 1, 'partners': 1, 'to': 1, 'advance': 1, ...})"
      ]
     },
     "execution_count": 15,
     "metadata": {},
     "output_type": "execute_result"
    }
   ],
   "source": [
    "from nltk.probability import FreqDist\n",
    "fdist = FreqDist(t_text)\n",
    "fdist"
   ]
  },
  {
   "cell_type": "code",
   "execution_count": 16,
   "metadata": {
    "colab": {
     "base_uri": "https://localhost:8080/"
    },
    "id": "6iG34Csdq8UX",
    "outputId": "e0fd19a9-1376-4517-efb0-6fe69d8f77ba"
   },
   "outputs": [
    {
     "data": {
      "text/plain": [
       "[('a', 3), ('this', 2)]"
      ]
     },
     "execution_count": 16,
     "metadata": {},
     "output_type": "execute_result"
    }
   ],
   "source": [
    "fdist1 = fdist.most_common(2)\n",
    "fdist1"
   ]
  },
  {
   "cell_type": "code",
   "execution_count": null,
   "metadata": {},
   "outputs": [],
   "source": []
  }
 ],
 "metadata": {
  "accelerator": "TPU",
  "colab": {
   "collapsed_sections": [],
   "name": "CC_Assessment.ipynb",
   "provenance": []
  },
  "gpuClass": "standard",
  "kernelspec": {
   "display_name": "Python 3 (ipykernel)",
   "language": "python",
   "name": "python3"
  },
  "language_info": {
   "codemirror_mode": {
    "name": "ipython",
    "version": 3
   },
   "file_extension": ".py",
   "mimetype": "text/x-python",
   "name": "python",
   "nbconvert_exporter": "python",
   "pygments_lexer": "ipython3",
   "version": "3.9.7"
  }
 },
 "nbformat": 4,
 "nbformat_minor": 1
}
